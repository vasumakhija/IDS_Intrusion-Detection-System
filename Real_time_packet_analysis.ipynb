{
 "cells": [
  {
   "cell_type": "code",
   "execution_count": 2,
   "metadata": {},
   "outputs": [
    {
     "name": "stdout",
     "output_type": "stream",
     "text": [
      "Model loaded successfully!\n"
     ]
    }
   ],
   "source": [
    "import pickle\n",
    "\n",
    "# Load the model from the file\n",
    "with open('random_forest_model.pkl', 'rb') as file:\n",
    "    loaded_model = pickle.load(file)\n",
    "    \n",
    "\n",
    "print(\"Model loaded successfully!\")\n"
   ]
  },
  {
   "cell_type": "code",
   "execution_count": 3,
   "metadata": {},
   "outputs": [],
   "source": [
    "# Test the model manually with a malicious record\n",
    "\n",
    "malicious_record = [\n",
    "    [6000, 3500.000, 570.000000, 2900.000000, 580, 1540.000000, 600.00, 450.000000, 320.000, 150.000]\n",
    "]\n",
    "predictions = loaded_model.predict(malicious_record)\n",
    "# predictions"
   ]
  },
  {
   "cell_type": "code",
   "execution_count": null,
   "metadata": {},
   "outputs": [],
   "source": [
    "from scapy.all import sniff, get_if_list, conf\n",
    "import numpy as np\n",
    "import pickle\n",
    "import time\n",
    "import threading\n",
    "\n",
    "with open('random_forest_model.pkl', 'rb') as file:\n",
    "    loaded_model = pickle.load(file)\n",
    "\n",
    "packets_captured = []  \n",
    "\n",
    "def extract_and_predict():\n",
    "    if len(packets_captured) < 2: \n",
    "        print(\"Not enough packets captured for feature extraction.\")\n",
    "        packets_captured.clear()\n",
    "        return\n",
    "\n",
    "    flow_duration = packets_captured[-1].time - packets_captured[0].time if packets_captured else 0\n",
    "    packet_lengths = [len(pkt) for pkt in packets_captured]\n",
    "    packet_times = [pkt.time for pkt in packets_captured]\n",
    "\n",
    "    bwd_packet_length_mean = np.mean(packet_lengths)\n",
    "    bwd_packet_length_std = np.std(packet_lengths)\n",
    "    flow_iat_std = np.std(np.diff(packet_times)) if len(packet_times) > 1 else 0\n",
    "    fwd_iat_total = np.sum(np.diff(packet_times)) if len(packet_times) > 1 else 0\n",
    "    fwd_iat_std = np.std(np.diff(packet_times)) if len(packet_times) > 1 else 0\n",
    "    packet_length_mean = np.mean(packet_lengths)\n",
    "    packet_length_std = np.std(packet_lengths)\n",
    "    avg_bwd_segment_size = np.mean(packet_lengths)\n",
    "    idle_mean = np.mean(np.diff(packet_times)) if len(packet_times) > 1 else 0\n",
    "\n",
    "    features = [\n",
    "        flow_duration,\n",
    "        bwd_packet_length_mean,\n",
    "        bwd_packet_length_std,\n",
    "        flow_iat_std,\n",
    "        fwd_iat_total,\n",
    "        fwd_iat_std,\n",
    "        packet_length_mean,\n",
    "        packet_length_std,\n",
    "        avg_bwd_segment_size,\n",
    "        idle_mean\n",
    "    ]\n",
    "\n",
    "    print(\"\\n\")\n",
    "    print(\"Extracted features:\", features)\n",
    "\n",
    "    features_array = np.array([features])\n",
    "\n",
    "    prediction = loaded_model.predict(features_array)[0]\n",
    "    print(f\"Prediction: {'Malicious' if prediction == 1 else 'Safe'}\")\n",
    "\n",
    "    packets_captured.clear()\n",
    "\n",
    "def capture_packets(interface):\n",
    "    print(f\"Starting packet capture on {interface}...\")\n",
    "\n",
    "    def process_packet(packet):\n",
    "        packets_captured.append(packet)\n",
    "\n",
    "    while True:\n",
    "        sniff(\n",
    "            iface=interface,\n",
    "            prn=process_packet,\n",
    "            store=0,\n",
    "            filter=\"ip\",  \n",
    "            timeout=5  \n",
    "        )\n",
    "        extract_and_predict()\n",
    "\n",
    "interfaces = get_if_list()\n",
    "print(\"Available network interfaces:\")\n",
    "for i, iface in enumerate(interfaces):\n",
    "    print(f\"{i}: {iface}\")\n",
    "\n",
    "selected_index = int(input(\"Select a network interface index (0-{}): \".format(len(interfaces) - 1)))\n",
    "selected_interface = interfaces[selected_index]\n",
    "\n",
    "capture_thread = threading.Thread(target=capture_packets, args=(selected_interface,))\n",
    "capture_thread.start()\n"
   ]
  },
  {
   "cell_type": "markdown",
   "metadata": {},
   "source": [
    "ping -t -l 60000 < IPV4 ADDRESS>              use this in cmd to ping ,,,to take out the ip configuration use ip config in cmd"
   ]
  },
  {
   "cell_type": "markdown",
   "metadata": {},
   "source": []
  }
 ],
 "metadata": {
  "kernelspec": {
   "display_name": "Python 3",
   "language": "python",
   "name": "python3"
  },
  "language_info": {
   "codemirror_mode": {
    "name": "ipython",
    "version": 3
   },
   "file_extension": ".py",
   "mimetype": "text/x-python",
   "name": "python",
   "nbconvert_exporter": "python",
   "pygments_lexer": "ipython3",
   "version": "3.12.4"
  }
 },
 "nbformat": 4,
 "nbformat_minor": 2
}
